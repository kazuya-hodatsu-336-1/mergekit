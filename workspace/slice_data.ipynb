{
 "cells": [
  {
   "cell_type": "code",
   "execution_count": null,
   "metadata": {},
   "outputs": [],
   "source": [
    "import json\n",
    "\n",
    "def process_questions(input_file, output_file):\n",
    "    with open(input_file, 'r', encoding='utf-8') as f:\n",
    "        lines = f.readlines()\n",
    "\n",
    "    processed_lines = []\n",
    "\n",
    "    for line in lines:\n",
    "        data = json.loads(line)\n",
    "        question_id = data['question_id']\n",
    "        category = data['category']\n",
    "        turns = data['turns']\n",
    "\n",
    "        # 1つ目の要素をそのままturnに設定\n",
    "        processed_lines.append({\n",
    "            'question_id': question_id,\n",
    "            'category': category,\n",
    "            'turn': turns[0]\n",
    "        })\n",
    "\n",
    "        # 2つ目の要素を加工して新たなレコードを追加\n",
    "        additional_turn = (\n",
    "            f'あなたは先ほど以下の質問に対してすでに回答済みです。これに関して追加の以下の質問に答えてください\\n'\n",
    "            f'あなたが回答済みの質問：\\n{turns[0]}\\n\\n'\n",
    "            f'追加の質問：\\n{turns[1]}'\n",
    "        )\n",
    "        processed_lines.append({\n",
    "            'question_id': question_id,\n",
    "            'category': category,\n",
    "            'turn': additional_turn\n",
    "        })\n",
    "\n",
    "    with open(output_file, 'w', encoding='utf-8') as f:\n",
    "        for line in processed_lines:\n",
    "            f.write(json.dumps(line, ensure_ascii=False) + '\\n')\n",
    "\n",
    "# 使用例\n",
    "process_questions('./mt_bench/question_full.jsonl', './mt_bench/question_processed.jsonl')"
   ]
  },
  {
   "cell_type": "code",
   "execution_count": null,
   "metadata": {},
   "outputs": [],
   "source": [
    "import json\n",
    "\n",
    "def split_turns(input_file, output_file):\n",
    "    with open(input_file, 'r', encoding='utf-8') as f:\n",
    "        lines = f.readlines()\n",
    "\n",
    "    split_lines = []\n",
    "\n",
    "    for line in lines:\n",
    "        data = json.loads(line)\n",
    "        question_id = data['question_id']\n",
    "        answer_id = data['answer_id']\n",
    "        model_id = data['model_id']\n",
    "        choices = data['choices']\n",
    "\n",
    "        for choice in choices:\n",
    "            turns = choice['turns']\n",
    "            for i, turn in enumerate(turns):\n",
    "                split_lines.append({\n",
    "                    'question_id': question_id,\n",
    "                    'answer_id': answer_id,\n",
    "                    'model_id': model_id,\n",
    "                    'choice_index': choice['index'],\n",
    "                    'turn_index': i,\n",
    "                    'turn': turn\n",
    "                })\n",
    "\n",
    "    with open(output_file, 'w', encoding='utf-8') as f:\n",
    "        for line in split_lines:\n",
    "            f.write(json.dumps(line, ensure_ascii=False) + '\\n')\n",
    "\n",
    "# 使用例\n",
    "split_turns('./mt_bench/gpt-4.jsonl', './mt_bench/gpt-4_split.jsonl')"
   ]
  },
  {
   "cell_type": "code",
   "execution_count": null,
   "metadata": {},
   "outputs": [],
   "source": [
    "import json\n",
    "import csv\n",
    "\n",
    "def jsonl_to_csv(input_file, output_file):\n",
    "    with open(input_file, 'r', encoding='utf-8') as f:\n",
    "        lines = f.readlines()\n",
    "\n",
    "    data = [json.loads(line) for line in lines]\n",
    "\n",
    "    # CSVのヘッダーを取得\n",
    "    headers = data[0].keys()\n",
    "\n",
    "    with open(output_file, 'w', newline='', encoding='utf-8') as f:\n",
    "        writer = csv.DictWriter(f, fieldnames=headers)\n",
    "        writer.writeheader()\n",
    "        writer.writerows(data)\n",
    "\n",
    "# gpt-4_split.jsonl を CSV に変換\n",
    "jsonl_to_csv('./mt_bench/gpt-4_split.jsonl', './mt_bench/gpt-4_split.csv')\n",
    "\n",
    "# question_processed.jsonl を CSV に変換\n",
    "jsonl_to_csv('./mt_bench/question_processed.jsonl', './mt_bench/question_processed.csv')"
   ]
  },
  {
   "cell_type": "code",
   "execution_count": null,
   "metadata": {},
   "outputs": [],
   "source": [
    "!pip install huggingface_hub ipywidgets"
   ]
  },
  {
   "cell_type": "code",
   "execution_count": null,
   "metadata": {},
   "outputs": [],
   "source": [
    "from huggingface_hub import notebook_login\n",
    "notebook_login()"
   ]
  },
  {
   "cell_type": "code",
   "execution_count": 3,
   "metadata": {},
   "outputs": [
    {
     "name": "stdout",
     "output_type": "stream",
     "text": [
      "DatasetDict({\n",
      "    test: Dataset({\n",
      "        features: ['input', 'output', 'eval_aspect'],\n",
      "        num_rows: 260\n",
      "    })\n",
      "})\n"
     ]
    }
   ],
   "source": [
    "from datasets import load_dataset, DatasetDict\n",
    "\n",
    "# test.csv ファイルを読み込む\n",
    "dataset = load_dataset('csv', data_files='./eval_tasks/test.csv')\n",
    "\n",
    "# DatasetDictにtestスプリットを設定\n",
    "dataset_dict = DatasetDict({'test': dataset['train']})\n",
    "\n",
    "# 確認のためにデータセットを表示\n",
    "print(dataset_dict)"
   ]
  },
  {
   "cell_type": "code",
   "execution_count": 4,
   "metadata": {},
   "outputs": [
    {
     "data": {
      "application/vnd.jupyter.widget-view+json": {
       "model_id": "1e25be8a8e1748c8ab750285ba10948c",
       "version_major": 2,
       "version_minor": 0
      },
      "text/plain": [
       "Uploading the dataset shards:   0%|          | 0/1 [00:00<?, ?it/s]"
      ]
     },
     "metadata": {},
     "output_type": "display_data"
    },
    {
     "data": {
      "application/vnd.jupyter.widget-view+json": {
       "model_id": "f3c06a5b48a94d3bb0a7f4c18bbfcee0",
       "version_major": 2,
       "version_minor": 0
      },
      "text/plain": [
       "Creating parquet from Arrow format:   0%|          | 0/1 [00:00<?, ?ba/s]"
      ]
     },
     "metadata": {},
     "output_type": "display_data"
    },
    {
     "data": {
      "text/plain": [
       "CommitInfo(commit_url='https://huggingface.co/datasets/HODACHI/MERGE_tasks-300/commit/1d8982943a75a1e4ab07b5eb25bb3061a7793142', commit_message='Upload dataset', commit_description='', oid='1d8982943a75a1e4ab07b5eb25bb3061a7793142', pr_url=None, pr_revision=None, pr_num=None)"
      ]
     },
     "execution_count": 4,
     "metadata": {},
     "output_type": "execute_result"
    }
   ],
   "source": [
    "# データセットをHuggingFaceにプッシュ\n",
    "dataset.push_to_hub(\"HODACHI/MERGE_tasks-300\")"
   ]
  }
 ],
 "metadata": {
  "kernelspec": {
   "display_name": ".venv",
   "language": "python",
   "name": "python3"
  },
  "language_info": {
   "codemirror_mode": {
    "name": "ipython",
    "version": 3
   },
   "file_extension": ".py",
   "mimetype": "text/x-python",
   "name": "python",
   "nbconvert_exporter": "python",
   "pygments_lexer": "ipython3",
   "version": "3.11.7"
  }
 },
 "nbformat": 4,
 "nbformat_minor": 2
}
